{
 "cells": [
  {
   "cell_type": "markdown",
   "metadata": {
    "slideshow": {
     "slide_type": "slide"
    }
   },
   "source": [
    "# Introducing Decomps and Due-Tos\n",
    "### Neal Fultz <<neal@njnm.consulting>>\n",
    "### for System1\n",
    "### Tue, Aug 25, 2020\n",
    "### [bit.ly/3goPBJk](https://bit.ly/3goPBJk)"
   ]
  },
  {
   "cell_type": "code",
   "execution_count": null,
   "metadata": {
    "tags": [
     "to_remove"
    ]
   },
   "outputs": [],
   "source": [
    "# Because custom.css is not bundled into exported html, f it, embed here\n",
    "\n",
    "_css =\"\"\"\n",
    ".slide-background {\n",
    "  background-image: url(data:image/png;base64,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);\n",
    "  background-position: 99% 99% !important;\n",
    "  background-size: auto 10% !important;\n",
    "  background-repeat: no-repeat;\n",
    "}\n",
    "\n",
    ".present > .cell:first-child h1 {\n",
    "  position: fixed;\n",
    "  top: 0%;\n",
    "    \n",
    "}\n",
    "\n",
    ".reveal .controls {\n",
    "  display: none   !important\n",
    "}\n",
    "\n",
    ".reveal h1, .reveal h2, .reveal h3, .reveal h4, .reveal h5, .reveal h6 , .reveal p {\n",
    "  font-family: \"Times New Roman\" !important   \n",
    "}\n",
    "\"\"\"\n",
    "\n",
    "from IPython.core.display import display, HTML\n",
    "display(HTML(f'<style>{_css}</style>'))\n",
    "\n",
    "\n"
   ]
  },
  {
   "cell_type": "code",
   "execution_count": 93,
   "metadata": {
    "slideshow": {
     "slide_type": "skip"
    },
    "tags": [
     "to_remove"
    ]
   },
   "outputs": [],
   "source": [
    "import keras\n",
    "import statsmodels\n",
    "import numpy\n",
    "import pandas\n",
    "import plotnine\n",
    "import mizani"
   ]
  },
  {
   "cell_type": "code",
   "execution_count": 122,
   "metadata": {
    "slideshow": {
     "slide_type": "skip"
    }
   },
   "outputs": [],
   "source": [
    "import warnings\n",
    "warnings.filterwarnings('ignore')"
   ]
  },
  {
   "cell_type": "markdown",
   "metadata": {
    "slideshow": {
     "slide_type": "slide"
    }
   },
   "source": [
    "# Executive Summary"
   ]
  },
  {
   "cell_type": "markdown",
   "metadata": {},
   "source": []
  },
  {
   "cell_type": "markdown",
   "metadata": {
    "slideshow": {
     "slide_type": "slide"
    }
   },
   "source": [
    "# Jargon"
   ]
  },
  {
   "cell_type": "markdown",
   "metadata": {},
   "source": [
    "> The most striking thing about the business world is its jargon. It does not have a monopoly on this, since we live in a world of claptrap. Universities, the media, and psychoanalysts are masters of the genre. Still, business jargon is particularly deadly, enough to utterly discourage the workplace hero, the Stakhanovite, lying dormant in you. -- *Corinne Maier*"
   ]
  },
  {
   "cell_type": "markdown",
   "metadata": {
    "slideshow": {
     "slide_type": "slide"
    }
   },
   "source": [
    "# What are *Decompositions* and why should I care?"
   ]
  },
  {
   "cell_type": "markdown",
   "metadata": {},
   "source": [
    "## *what*\n",
    "\n",
    "* <del>the state or process of rotting; decay.</del>\n",
    "* to separate into constituent parts or elements or into simpler compounds"
   ]
  },
  {
   "cell_type": "markdown",
   "metadata": {
    "slideshow": {
     "slide_type": "fragment"
    }
   },
   "source": [
    "## *why*\n",
    "\n",
    "* simpler parts are easier to understand\n",
    "* reason about how parts interact with each other and with system as a whole"
   ]
  },
  {
   "cell_type": "markdown",
   "metadata": {
    "slideshow": {
     "slide_type": "fragment"
    }
   },
   "source": [
    "## *commonly used*\n",
    "\n",
    "* WWW - split traffic into organic vs paid\n",
    "* Cost Accounting - direct vs indirect, fixed vs variable\n",
    "* Chemistry - literally break down a complex molecule into atoms\n",
    "* Math - Factoring split a natural number into it's primes \n",
    "* Stats - Fisher's ANOVA - split variance into between / Within\n"
   ]
  },
  {
   "cell_type": "markdown",
   "metadata": {
    "slideshow": {
     "slide_type": "slide"
    }
   },
   "source": [
    "# Calculus Refresher 1 - Taylor's Theorem"
   ]
  },
  {
   "cell_type": "markdown",
   "metadata": {},
   "source": [
    "$$ f(x) = f(0) + f'(0) x + h_2(x) $$"
   ]
  },
  {
   "cell_type": "markdown",
   "metadata": {
    "slideshow": {
     "slide_type": "fragment"
    }
   },
   "source": [
    "$$ f(x) = f(0) + f'(0)x + f''(0)x^2/2! + h_3(x) $$"
   ]
  },
  {
   "cell_type": "markdown",
   "metadata": {
    "slideshow": {
     "slide_type": "fragment"
    }
   },
   "source": [
    "$$ f(x) = f(0) + f'(0)x + f''(0)x^2/2! + f'''(0)x^3/3! + \\dots + h_k(x) $$"
   ]
  },
  {
   "cell_type": "markdown",
   "metadata": {
    "slideshow": {
     "slide_type": "fragment"
    }
   },
   "source": [
    "<center> <em>Taylor's Theorem</em> :: if $f$ is degree $k$, $ h_k = 0 $ </center>"
   ]
  },
  {
   "cell_type": "markdown",
   "metadata": {
    "slideshow": {
     "slide_type": "fragment"
    }
   },
   "source": [
    "<center>We have <em>decomposed</em> $f$ into $k$ pieces - a constant, a line, a parabola, ... </center>"
   ]
  },
  {
   "cell_type": "markdown",
   "metadata": {
    "slideshow": {
     "slide_type": "slide"
    }
   },
   "source": [
    "# Taylor approximation the other direction"
   ]
  },
  {
   "cell_type": "markdown",
   "metadata": {},
   "source": [
    "$$ f(x) = f(0) + f'(0) x + h_2(x) $$"
   ]
  },
  {
   "cell_type": "markdown",
   "metadata": {
    "slideshow": {
     "slide_type": "fragment"
    }
   },
   "source": [
    "$$ f(x,y) = f(0,y) + f'_x(0,y)x + h_2(x,y) $$"
   ]
  },
  {
   "cell_type": "markdown",
   "metadata": {
    "slideshow": {
     "slide_type": "fragment"
    }
   },
   "source": [
    "$$ f(x,y) = f(0,0) + f'_x(0,0)x + f'_y(0,0)y  + h_2(x,y) $$"
   ]
  },
  {
   "cell_type": "markdown",
   "metadata": {
    "slideshow": {
     "slide_type": "fragment"
    }
   },
   "source": [
    "$$ f(x_1, x_2, x_3, ...) = f(\\bar{0}) + \\sum f'_{x_i}(\\bar{0}) x_i + h_2(x_1, x_2, x_3,...) $$"
   ]
  },
  {
   "cell_type": "markdown",
   "metadata": {
    "slideshow": {
     "slide_type": "fragment"
    }
   },
   "source": [
    "<center>We have <em>decomposed</em> $f$ into $k$ pieces - a constant + a line over each variable + an error term. </center>"
   ]
  },
  {
   "cell_type": "markdown",
   "metadata": {
    "slideshow": {
     "slide_type": "fragment"
    }
   },
   "source": [
    "Vector notation: \n",
    "$$ f(x_{k}) = a + x'L + h(x) $$"
   ]
  },
  {
   "cell_type": "markdown",
   "metadata": {
    "slideshow": {
     "slide_type": "slide"
    }
   },
   "source": [
    "# Taylor, so what?"
   ]
  },
  {
   "cell_type": "markdown",
   "metadata": {
    "slideshow": {
     "slide_type": "fragment"
    }
   },
   "source": [
    "$$ Y = \\alpha + X_1 \\beta_1 + X_2 \\beta_2 + \\dots + \\epsilon $$"
   ]
  },
  {
   "cell_type": "markdown",
   "metadata": {
    "slideshow": {
     "slide_type": "fragment"
    }
   },
   "source": [
    "<center>\n",
    "    Gauss showed the OLS solution of normal eqns is optimal<sup>* with some assumptions</sup>. \n",
    "</center>"
   ]
  },
  {
   "cell_type": "markdown",
   "metadata": {
    "slideshow": {
     "slide_type": "fragment"
    }
   },
   "source": [
    "<center>\n",
    "    <em>Interpretation</em> Under conditions, we can think of OLS as the <br/> \"best\" \"linear\" \"additive\" \"decomposition\" of \"Y into X\" <br/>\n",
    "</center>"
   ]
  },
  {
   "cell_type": "markdown",
   "metadata": {
    "slideshow": {
     "slide_type": "fragment"
    }
   },
   "source": [
    "<center>\n",
    "    If those conditions are not satisfied, can always back up.\n",
    "</center>"
   ]
  },
  {
   "cell_type": "markdown",
   "metadata": {
    "slideshow": {
     "slide_type": "slide"
    }
   },
   "source": [
    "# Implementing the OLS Decomp"
   ]
  },
  {
   "cell_type": "markdown",
   "metadata": {
    "slideshow": {
     "slide_type": "fragment"
    }
   },
   "source": [
    "$$ Y = \\alpha + X_1 \\beta_1 + X_2 \\beta_2 + \\dots + \\epsilon $$"
   ]
  },
  {
   "cell_type": "markdown",
   "metadata": {
    "slideshow": {
     "slide_type": "fragment"
    }
   },
   "source": [
    "$$ \\hat{\\beta} = (X'X)^{-1}X'Y $$"
   ]
  },
  {
   "cell_type": "markdown",
   "metadata": {
    "slideshow": {
     "slide_type": "fragment"
    }
   },
   "source": [
    "$$ Y = X\\hat{\\beta} + e$$"
   ]
  },
  {
   "cell_type": "markdown",
   "metadata": {
    "slideshow": {
     "slide_type": "fragment"
    }
   },
   "source": [
    "$$ Y = X(\\hat{\\beta} \\times 1 / 1) + e$$"
   ]
  },
  {
   "cell_type": "markdown",
   "metadata": {
    "slideshow": {
     "slide_type": "fragment"
    }
   },
   "source": [
    "$$ Y = X \\mbox{ diag}(\\hat{\\beta}) 1_{k}  + e$$"
   ]
  },
  {
   "cell_type": "markdown",
   "metadata": {
    "slideshow": {
     "slide_type": "fragment"
    }
   },
   "source": [
    "... just don't add the columns together. eg cross out the $1$."
   ]
  },
  {
   "cell_type": "markdown",
   "metadata": {
    "slideshow": {
     "slide_type": "fragment"
    }
   },
   "source": [
    "$$ \\mbox{decomp}(Y) = [X \\mbox{ diag}(\\hat{\\beta}) | e ] $$\n",
    "\n",
    "$$ \\mbox{decomp}(\\hat{Y}) = [X \\mbox{ diag}(\\hat{\\beta})] $$"
   ]
  },
  {
   "cell_type": "markdown",
   "metadata": {
    "slideshow": {
     "slide_type": "slide"
    }
   },
   "source": [
    "# Interpreting a Decomp, theory"
   ]
  },
  {
   "cell_type": "markdown",
   "metadata": {},
   "source": [
    "$$ \\mbox{decomp}(\\hat{Y}) = X \\mbox{ diag}(\\hat{\\beta}) $$"
   ]
  },
  {
   "cell_type": "markdown",
   "metadata": {},
   "source": [
    "### Comments\n",
    "\n",
    "* Same <em>shape</em> as $X$ ($\\pm$ error term).\n",
    "* Same <em>units</em> as $Y$.\n",
    "* <strong> \"Grounds\" \"contribution\" of each \"input\" to common scale </strong>\n",
    "* Think about which X you can control / manipulate."
   ]
  },
  {
   "cell_type": "markdown",
   "metadata": {
    "slideshow": {
     "slide_type": "slide"
    }
   },
   "source": [
    "# Linear Aggregation"
   ]
  },
  {
   "cell_type": "markdown",
   "metadata": {},
   "source": [
    "$$ \\mbox{decomp}(\\hat{Y}) = X \\mbox{ diag}(\\hat{\\beta}) $$"
   ]
  },
  {
   "cell_type": "markdown",
   "metadata": {},
   "source": [
    "* Can left multiply $A\\mbox{ decomp}(Y)$ to calculate summary stats. \n",
    "  * In practice, equivalent to a `SUM() / GROUP BY`\n",
    "* By choosing A carefully\n",
    "  * $A'e = 0 \\rightarrow A \\mbox{ decomp} (Y) = A \\mbox{ decomp} (\\hat{Y})$\n",
    "* In OLS, residuals sum to 0 (eg $1'e = 0$\n",
    "  * Totals: $A = 1'_n$ : Totals\n",
    "  * Means: $A = \\frac{1}{n} 1'_n$: Mean\n",
    "  * Group Breakouts: $A = \\mbox{dummy}(G)$\n",
    "    * If $G \\in X$, $Ge = 0$\n",
    "  * By assoc, can group $(AX)\\hat\\beta$, use as contrasts for hypothesis testing.\n",
    "* <strong>Reports can \"drill down\" to same unit of observation as underlying data.</strong>\n",
    "* <strong>Y follows \"accounting\", all errors cancel</strong>"
   ]
  },
  {
   "cell_type": "markdown",
   "metadata": {
    "slideshow": {
     "slide_type": "slide"
    }
   },
   "source": [
    "# Calculus Refresher 2 - Chain Rule"
   ]
  },
  {
   "cell_type": "markdown",
   "metadata": {},
   "source": [
    "$$ \\frac{\\partial}{\\partial t } f(x) = f'(x) \\frac{\\partial x}{\\partial t}   $$"
   ]
  },
  {
   "cell_type": "markdown",
   "metadata": {
    "slideshow": {
     "slide_type": "fragment"
    }
   },
   "source": [
    "$$ Y = \\alpha + X_1 \\beta_1 + X_2 \\beta_2 + \\dots + \\epsilon $$"
   ]
  },
  {
   "cell_type": "markdown",
   "metadata": {
    "slideshow": {
     "slide_type": "fragment"
    }
   },
   "source": [
    "$$ \\frac{\\partial}{\\partial t }Y = \\alpha + \\frac{\\partial X_1}{\\partial t } \\beta_1 + \\frac{\\partial X_2}{\\partial t } \\beta_2 + \\dots + \\epsilon $$"
   ]
  },
  {
   "cell_type": "markdown",
   "metadata": {
    "slideshow": {
     "slide_type": "fragment"
    }
   },
   "source": [
    "### what if slopes also vary by t\n",
    "\n",
    "$$ \\frac{\\partial}{\\partial t } f(t) g(t) = \\frac{\\partial f}{\\partial t } g(t) + f(t) \\frac{\\partial g}{\\partial t }$$\n",
    "\n",
    "$$ \\frac{\\partial}{\\partial t }Y = \\alpha + \\frac{\\partial X_1}{\\partial t } \\beta_1 + X_1 \\frac{\\partial \\beta_1}{\\partial t } +  \\frac{\\partial X_2}{\\partial t } \\beta_2 + X_2 \\frac{\\partial \\beta_2}{\\partial t } + \\dots + \\epsilon $$"
   ]
  },
  {
   "cell_type": "markdown",
   "metadata": {
    "slideshow": {
     "slide_type": "slide"
    }
   },
   "source": [
    "# Non Linear Models (advanced)"
   ]
  },
  {
   "cell_type": "markdown",
   "metadata": {
    "slideshow": {
     "slide_type": "fragment"
    }
   },
   "source": [
    "$$ Y = X(\\hat{\\beta} \\times 1 / 1) + e$$"
   ]
  },
  {
   "cell_type": "markdown",
   "metadata": {},
   "source": [
    "$$ Y = X \\mbox{ diag}(\\hat{\\beta}) 1_{k}  + e$$"
   ]
  },
  {
   "cell_type": "markdown",
   "metadata": {},
   "source": [
    "If not using OLS,  the above is not justified.\n",
    "\n",
    "But, combining taylor expansion + chain rule for each element of Y:\n",
    "\n",
    "$$ y_i = a + \\sum x_i \\frac{\\partial y}{\\partial x_i}|_0  + h(x) $$\n",
    "\n",
    "And back to matrix notation:\n",
    "$$ Y = (X \\circ \\nabla Y) 1_k + h(X) $$\n",
    "\n",
    "Where $\\circ$ is the Hadamard product and $\\nabla Y$ is the deriviative of Y wrt to X."
   ]
  },
  {
   "cell_type": "markdown",
   "metadata": {
    "slideshow": {
     "slide_type": "fragment"
    }
   },
   "source": [
    "Note: Error term not \"nice\" anymore. Many (mostly ad-hoc) methods for dealing with them."
   ]
  },
  {
   "cell_type": "markdown",
   "metadata": {
    "slideshow": {
     "slide_type": "slide"
    }
   },
   "source": [
    "# Non Linear Models (Historical Digression)"
   ]
  },
  {
   "cell_type": "markdown",
   "metadata": {
    "slideshow": {
     "slide_type": "fragment"
    }
   },
   "source": [
    "Note: Instead of dealing with $\\nabla Y$ analytically (annoying and/or hard), use modern software to carry out procedure numerically.\n",
    "\n",
    "* In ancient times, you would hire an economist to work this analytically on a yellow pad, and a programmer to translate that to custom software.\n",
    "* In the recent past, replace the economist with wolfram alpha.\n",
    "* In present day, replace the programmer with auto diff.\n",
    "\n"
   ]
  },
  {
   "cell_type": "markdown",
   "metadata": {
    "slideshow": {
     "slide_type": "slide"
    }
   },
   "source": [
    "# What are *Duetos* and why should I care?"
   ]
  },
  {
   "cell_type": "markdown",
   "metadata": {},
   "source": [
    "## what\n",
    "\n",
    "* sadly, not dictionary word.\n",
    "* \"How did an output change (over time) in relation to how it's inputs changed (over time)\""
   ]
  },
  {
   "cell_type": "markdown",
   "metadata": {
    "slideshow": {
     "slide_type": "fragment"
    }
   },
   "source": [
    "## why\n",
    "\n",
    "* Complicated systems change in complicated ways"
   ]
  },
  {
   "cell_type": "markdown",
   "metadata": {
    "slideshow": {
     "slide_type": "fragment"
    }
   },
   "source": [
    "<center> <em>Fultz Dueto Conjecture</em>: Any function that can be (meaningfully) decomped can be (meaningfully) duetod </center> "
   ]
  },
  {
   "cell_type": "markdown",
   "metadata": {
    "slideshow": {
     "slide_type": "fragment"
    }
   },
   "source": [
    "## common uses\n",
    "\n",
    "* Time Series\n",
    "* A/B testing"
   ]
  },
  {
   "cell_type": "markdown",
   "metadata": {
    "slideshow": {
     "slide_type": "slide"
    }
   },
   "source": [
    "# Implementing Duetos"
   ]
  },
  {
   "cell_type": "markdown",
   "metadata": {
    "slideshow": {
     "slide_type": "fragment"
    }
   },
   "source": [
    "### if time/treatment is modeled explicitly\n",
    "\n",
    "* then could analytically chain rule through.\n",
    "* this yields calculus / \"smooth\" result\n",
    "* applies to time series models with a trend variable, for example.\n",
    "* do we even want this?"
   ]
  },
  {
   "cell_type": "markdown",
   "metadata": {
    "slideshow": {
     "slide_type": "fragment"
    }
   },
   "source": [
    "### if time/treatment is contained within row space...\n",
    "\n",
    "* lets back up, go left at Alburque\n",
    "\n",
    "  $$ \\frac{\\partial f}{\\partial t}   = \\lim_{dt \\to 0}  \\frac{f(x, t + dt) - f(x, t)}{t + dt - t} \\approx   \\frac{f(x, t:=1) - f(x, t:=0)}{1 - 0} $$\n",
    "$$                            \\approx   I(t=1) \\mbox{ decomp} (Y) - I(t=0) \\mbox{ decomp} (Y) $$\n",
    "$$                            \\approx [I(t=1) - I(t=0)] \\mbox{ decomp} (Y)     $$"
   ]
  },
  {
   "cell_type": "markdown",
   "metadata": {
    "slideshow": {
     "slide_type": "fragment"
    }
   },
   "source": [
    "* So let $A = [I(t=1) - I(t=0)]$\n",
    "  * then duetos can be approximated by linear aggregation of the decomp.\n",
    "  * which subtracts, from a target group, a base group (eg A/B testing, YoY analyses, ...)\n",
    "  * **Caveat** Be careful about totals vs means, and propagate error terms carefully."
   ]
  },
  {
   "cell_type": "markdown",
   "metadata": {
    "slideshow": {
     "slide_type": "slide"
    }
   },
   "source": [
    "# Example - LA DWP"
   ]
  },
  {
   "cell_type": "markdown",
   "metadata": {},
   "source": [
    "![power](https://citywatchla.com/images/stories/Dec-2018/098o.png)"
   ]
  },
  {
   "cell_type": "markdown",
   "metadata": {
    "slideshow": {
     "slide_type": "slide"
    }
   },
   "source": [
    "# Why is my power bill so high and inconsistent?"
   ]
  },
  {
   "cell_type": "markdown",
   "metadata": {
    "slideshow": {
     "slide_type": "fragment"
    }
   },
   "source": [
    "### Theory 1: \"My Fault\" / Demand"
   ]
  },
  {
   "cell_type": "markdown",
   "metadata": {},
   "source": [
    "* Heating / Cooling\n",
    "  * Heating is basically electric blanket in ceiling, is stupid\n",
    "  * Cooling is window units, replaced in 2019\n",
    "  * Depends on temperature outside?"
   ]
  },
  {
   "cell_type": "markdown",
   "metadata": {},
   "source": [
    "* Appliances\n",
    "  * Turtle Tank filter -> big upgrade ~ 2017\n",
    "  * Aero Garden (new after Xmas 2019)\n",
    "  * Curliecue light bulbs (cycling in since 2011)\n",
    "  * Newer computers have lower power draw, replaced 2019"
   ]
  },
  {
   "cell_type": "markdown",
   "metadata": {
    "slideshow": {
     "slide_type": "slide"
    }
   },
   "source": [
    "# Why is my power bill so high and inconsistent?"
   ]
  },
  {
   "cell_type": "markdown",
   "metadata": {
    "slideshow": {
     "slide_type": "fragment"
    }
   },
   "source": [
    "## Theory 2: \"Their Fault\" / Supply"
   ]
  },
  {
   "cell_type": "markdown",
   "metadata": {},
   "source": [
    "* Seasonal changes in supply\n",
    "  * Less solar in winter months?\n",
    "  * Backfill extra summer demand with more expensive engergy? "
   ]
  },
  {
   "cell_type": "markdown",
   "metadata": {},
   "source": [
    "* Inflation?"
   ]
  },
  {
   "cell_type": "markdown",
   "metadata": {},
   "source": [
    "* Changes in city ordinances?"
   ]
  },
  {
   "cell_type": "markdown",
   "metadata": {
    "slideshow": {
     "slide_type": "fragment"
    }
   },
   "source": [
    "*  [ladwpbillingsettlement.com](http://www.ladwpbillingsettlement.com/)\n",
    "> The LADWP may owe another $40 million to consumers after overcharging them years. The FBI raided the LADWP and City Attorney's offices last Monday investigating, bribery, kickbacks, extortion and money laundering. Consumer Watchdog President Jamie Court says there is no doubt crimes were committed and that the consumers are owed millions."
   ]
  },
  {
   "cell_type": "markdown",
   "metadata": {
    "slideshow": {
     "slide_type": "slide"
    }
   },
   "source": [
    "# Data"
   ]
  },
  {
   "cell_type": "markdown",
   "metadata": {
    "slideshow": {
     "slide_type": "fragment"
    }
   },
   "source": [
    "* LA DWP Bimonthly Bills\n",
    "  * 2016 - Present\n",
    "  * Progressive pricing by tier\n",
    "    * higher tiers not reported unless used\n",
    "  * Days per billing cycle can vary from 57 - 64"
   ]
  },
  {
   "cell_type": "markdown",
   "metadata": {
    "slideshow": {
     "slide_type": "fragment"
    }
   },
   "source": [
    "* Inflation\n",
    "  * BLS CPI data\n",
    "  * Series **CUUR0400SEHF** / Energy services in West urban, all urban consumers, not seasonally adjusted "
   ]
  },
  {
   "cell_type": "markdown",
   "metadata": {
    "slideshow": {
     "slide_type": "fragment"
    }
   },
   "source": [
    "* Climate\n",
    "  * Weather Underground **KLAX** station\n",
    "  * Use middle month avg temp - eg for Dec 15-Feb 13 bill, use Jan "
   ]
  },
  {
   "cell_type": "code",
   "execution_count": 3,
   "metadata": {
    "slideshow": {
     "slide_type": "skip"
    }
   },
   "outputs": [],
   "source": [
    "df = pandas.read_csv(\"ladwp.csv\").merge(\n",
    "    pandas.read_csv(\"ladwp_temp.csv\")\n",
    ").merge(\n",
    "    pandas.read_csv(\"cpi.csv\").rename(\n",
    "        columns={\"Year\": \"yyyy\", \"Period\":\"mm\", \"Value\": \"cpi\"}\n",
    "    )[\n",
    "        ['yyyy', 'mm', 'cpi']\n",
    "    ].assign(\n",
    "        mm=lambda x: x['mm'].str[1:].astype(int), \n",
    "        cpi = lambda x: x['cpi']/x['cpi'][1]\n",
    "    )\n",
    ").assign(\n",
    "  t = lambda x: (x['yyyy'] - 2016)*6 + x['mm']/2 - 1,\n",
    "  yyyymm = lambda df: pandas.to_datetime(df[['yyyy', 'mm']].rename(columns={\"yyyy\": \"YEAR\", \"mm\":\"MONTH\"}).assign(DAY=15)),\n",
    "  heat =   lambda df: (df.AvgTemp - 65).clip(0, 10),\n",
    "  cool =   lambda df: (65 - df.AvgTemp).clip(0, 10),\n",
    "  bill_t1 = lambda df: (df.usage * df.tier1).round(2),\n",
    ")"
   ]
  },
  {
   "cell_type": "markdown",
   "metadata": {
    "slideshow": {
     "slide_type": "slide"
    }
   },
   "source": [
    "# Data"
   ]
  },
  {
   "cell_type": "code",
   "execution_count": 4,
   "metadata": {
    "tags": [
     "to_remove"
    ]
   },
   "outputs": [
    {
     "data": {
      "text/html": [
       "<div>\n",
       "<style scoped>\n",
       "    .dataframe tbody tr th:only-of-type {\n",
       "        vertical-align: middle;\n",
       "    }\n",
       "\n",
       "    .dataframe tbody tr th {\n",
       "        vertical-align: top;\n",
       "    }\n",
       "\n",
       "    .dataframe thead th {\n",
       "        text-align: right;\n",
       "    }\n",
       "</style>\n",
       "<table border=\"1\" class=\"dataframe\">\n",
       "  <thead>\n",
       "    <tr style=\"text-align: right;\">\n",
       "      <th></th>\n",
       "      <th>yyyymm</th>\n",
       "      <th>days</th>\n",
       "      <th>tier1</th>\n",
       "      <th>usage</th>\n",
       "      <th>cpi</th>\n",
       "      <th>AvgTemp</th>\n",
       "    </tr>\n",
       "  </thead>\n",
       "  <tbody>\n",
       "    <tr>\n",
       "      <th>0</th>\n",
       "      <td>2016-02-15</td>\n",
       "      <td>64</td>\n",
       "      <td>0.14414</td>\n",
       "      <td>1670</td>\n",
       "      <td>1.000000</td>\n",
       "      <td>56.93</td>\n",
       "    </tr>\n",
       "    <tr>\n",
       "      <th>1</th>\n",
       "      <td>2016-04-15</td>\n",
       "      <td>57</td>\n",
       "      <td>0.14140</td>\n",
       "      <td>473</td>\n",
       "      <td>0.999544</td>\n",
       "      <td>60.09</td>\n",
       "    </tr>\n",
       "    <tr>\n",
       "      <th>2</th>\n",
       "      <td>2016-06-15</td>\n",
       "      <td>61</td>\n",
       "      <td>0.13650</td>\n",
       "      <td>429</td>\n",
       "      <td>1.044552</td>\n",
       "      <td>61.70</td>\n",
       "    </tr>\n",
       "    <tr>\n",
       "      <th>3</th>\n",
       "      <td>2016-08-15</td>\n",
       "      <td>59</td>\n",
       "      <td>0.13883</td>\n",
       "      <td>869</td>\n",
       "      <td>1.068874</td>\n",
       "      <td>70.50</td>\n",
       "    </tr>\n",
       "    <tr>\n",
       "      <th>4</th>\n",
       "      <td>2016-10-15</td>\n",
       "      <td>62</td>\n",
       "      <td>0.14087</td>\n",
       "      <td>693</td>\n",
       "      <td>1.070519</td>\n",
       "      <td>70.10</td>\n",
       "    </tr>\n",
       "    <tr>\n",
       "      <th>5</th>\n",
       "      <td>2016-12-15</td>\n",
       "      <td>62</td>\n",
       "      <td>0.14370</td>\n",
       "      <td>738</td>\n",
       "      <td>1.025528</td>\n",
       "      <td>63.71</td>\n",
       "    </tr>\n",
       "    <tr>\n",
       "      <th>6</th>\n",
       "      <td>2017-02-15</td>\n",
       "      <td>63</td>\n",
       "      <td>0.14729</td>\n",
       "      <td>1183</td>\n",
       "      <td>1.017346</td>\n",
       "      <td>55.64</td>\n",
       "    </tr>\n",
       "    <tr>\n",
       "      <th>7</th>\n",
       "      <td>2017-04-15</td>\n",
       "      <td>58</td>\n",
       "      <td>0.14922</td>\n",
       "      <td>691</td>\n",
       "      <td>1.033938</td>\n",
       "      <td>59.86</td>\n",
       "    </tr>\n",
       "    <tr>\n",
       "      <th>8</th>\n",
       "      <td>2017-06-15</td>\n",
       "      <td>61</td>\n",
       "      <td>0.15091</td>\n",
       "      <td>473</td>\n",
       "      <td>1.074467</td>\n",
       "      <td>62.29</td>\n",
       "    </tr>\n",
       "    <tr>\n",
       "      <th>9</th>\n",
       "      <td>2017-08-15</td>\n",
       "      <td>59</td>\n",
       "      <td>0.14874</td>\n",
       "      <td>1161</td>\n",
       "      <td>1.072076</td>\n",
       "      <td>70.47</td>\n",
       "    </tr>\n",
       "    <tr>\n",
       "      <th>10</th>\n",
       "      <td>2017-10-15</td>\n",
       "      <td>62</td>\n",
       "      <td>0.14887</td>\n",
       "      <td>310</td>\n",
       "      <td>1.075681</td>\n",
       "      <td>70.35</td>\n",
       "    </tr>\n",
       "    <tr>\n",
       "      <th>11</th>\n",
       "      <td>2017-12-15</td>\n",
       "      <td>61</td>\n",
       "      <td>0.15276</td>\n",
       "      <td>644</td>\n",
       "      <td>1.034617</td>\n",
       "      <td>64.57</td>\n",
       "    </tr>\n",
       "    <tr>\n",
       "      <th>12</th>\n",
       "      <td>2018-02-15</td>\n",
       "      <td>62</td>\n",
       "      <td>0.15431</td>\n",
       "      <td>755</td>\n",
       "      <td>1.050120</td>\n",
       "      <td>60.95</td>\n",
       "    </tr>\n",
       "    <tr>\n",
       "      <th>13</th>\n",
       "      <td>2018-04-15</td>\n",
       "      <td>59</td>\n",
       "      <td>0.15521</td>\n",
       "      <td>892</td>\n",
       "      <td>1.055613</td>\n",
       "      <td>58.12</td>\n",
       "    </tr>\n",
       "    <tr>\n",
       "      <th>14</th>\n",
       "      <td>2018-06-15</td>\n",
       "      <td>61</td>\n",
       "      <td>0.15618</td>\n",
       "      <td>500</td>\n",
       "      <td>1.082027</td>\n",
       "      <td>62.07</td>\n",
       "    </tr>\n",
       "    <tr>\n",
       "      <th>15</th>\n",
       "      <td>2018-08-15</td>\n",
       "      <td>59</td>\n",
       "      <td>0.16214</td>\n",
       "      <td>919</td>\n",
       "      <td>1.103429</td>\n",
       "      <td>73.18</td>\n",
       "    </tr>\n",
       "    <tr>\n",
       "      <th>16</th>\n",
       "      <td>2018-10-15</td>\n",
       "      <td>62</td>\n",
       "      <td>0.16149</td>\n",
       "      <td>803</td>\n",
       "      <td>1.071082</td>\n",
       "      <td>68.95</td>\n",
       "    </tr>\n",
       "    <tr>\n",
       "      <th>17</th>\n",
       "      <td>2018-12-15</td>\n",
       "      <td>62</td>\n",
       "      <td>0.16563</td>\n",
       "      <td>779</td>\n",
       "      <td>1.053417</td>\n",
       "      <td>64.43</td>\n",
       "    </tr>\n",
       "    <tr>\n",
       "      <th>18</th>\n",
       "      <td>2019-02-15</td>\n",
       "      <td>63</td>\n",
       "      <td>0.16747</td>\n",
       "      <td>1220</td>\n",
       "      <td>1.046209</td>\n",
       "      <td>57.27</td>\n",
       "    </tr>\n",
       "    <tr>\n",
       "      <th>19</th>\n",
       "      <td>2019-04-15</td>\n",
       "      <td>58</td>\n",
       "      <td>0.16911</td>\n",
       "      <td>728</td>\n",
       "      <td>1.050969</td>\n",
       "      <td>59.31</td>\n",
       "    </tr>\n",
       "    <tr>\n",
       "      <th>20</th>\n",
       "      <td>2019-06-15</td>\n",
       "      <td>61</td>\n",
       "      <td>0.17239</td>\n",
       "      <td>540</td>\n",
       "      <td>1.090462</td>\n",
       "      <td>61.22</td>\n",
       "    </tr>\n",
       "    <tr>\n",
       "      <th>21</th>\n",
       "      <td>2019-08-15</td>\n",
       "      <td>61</td>\n",
       "      <td>0.17360</td>\n",
       "      <td>707</td>\n",
       "      <td>1.093553</td>\n",
       "      <td>68.20</td>\n",
       "    </tr>\n",
       "    <tr>\n",
       "      <th>22</th>\n",
       "      <td>2019-10-15</td>\n",
       "      <td>59</td>\n",
       "      <td>0.17406</td>\n",
       "      <td>727</td>\n",
       "      <td>1.094990</td>\n",
       "      <td>72.26</td>\n",
       "    </tr>\n",
       "    <tr>\n",
       "      <th>23</th>\n",
       "      <td>2019-12-15</td>\n",
       "      <td>63</td>\n",
       "      <td>0.17381</td>\n",
       "      <td>688</td>\n",
       "      <td>1.060688</td>\n",
       "      <td>62.84</td>\n",
       "    </tr>\n",
       "    <tr>\n",
       "      <th>24</th>\n",
       "      <td>2020-02-15</td>\n",
       "      <td>64</td>\n",
       "      <td>0.17360</td>\n",
       "      <td>841</td>\n",
       "      <td>1.083792</td>\n",
       "      <td>59.10</td>\n",
       "    </tr>\n",
       "    <tr>\n",
       "      <th>25</th>\n",
       "      <td>2020-04-15</td>\n",
       "      <td>60</td>\n",
       "      <td>0.17283</td>\n",
       "      <td>600</td>\n",
       "      <td>1.082164</td>\n",
       "      <td>59.37</td>\n",
       "    </tr>\n",
       "    <tr>\n",
       "      <th>26</th>\n",
       "      <td>2020-06-15</td>\n",
       "      <td>62</td>\n",
       "      <td>0.17061</td>\n",
       "      <td>912</td>\n",
       "      <td>1.114573</td>\n",
       "      <td>65.35</td>\n",
       "    </tr>\n",
       "  </tbody>\n",
       "</table>\n",
       "</div>"
      ],
      "text/plain": [
       "       yyyymm  days    tier1  usage       cpi  AvgTemp\n",
       "0  2016-02-15    64  0.14414   1670  1.000000    56.93\n",
       "1  2016-04-15    57  0.14140    473  0.999544    60.09\n",
       "2  2016-06-15    61  0.13650    429  1.044552    61.70\n",
       "3  2016-08-15    59  0.13883    869  1.068874    70.50\n",
       "4  2016-10-15    62  0.14087    693  1.070519    70.10\n",
       "5  2016-12-15    62  0.14370    738  1.025528    63.71\n",
       "6  2017-02-15    63  0.14729   1183  1.017346    55.64\n",
       "7  2017-04-15    58  0.14922    691  1.033938    59.86\n",
       "8  2017-06-15    61  0.15091    473  1.074467    62.29\n",
       "9  2017-08-15    59  0.14874   1161  1.072076    70.47\n",
       "10 2017-10-15    62  0.14887    310  1.075681    70.35\n",
       "11 2017-12-15    61  0.15276    644  1.034617    64.57\n",
       "12 2018-02-15    62  0.15431    755  1.050120    60.95\n",
       "13 2018-04-15    59  0.15521    892  1.055613    58.12\n",
       "14 2018-06-15    61  0.15618    500  1.082027    62.07\n",
       "15 2018-08-15    59  0.16214    919  1.103429    73.18\n",
       "16 2018-10-15    62  0.16149    803  1.071082    68.95\n",
       "17 2018-12-15    62  0.16563    779  1.053417    64.43\n",
       "18 2019-02-15    63  0.16747   1220  1.046209    57.27\n",
       "19 2019-04-15    58  0.16911    728  1.050969    59.31\n",
       "20 2019-06-15    61  0.17239    540  1.090462    61.22\n",
       "21 2019-08-15    61  0.17360    707  1.093553    68.20\n",
       "22 2019-10-15    59  0.17406    727  1.094990    72.26\n",
       "23 2019-12-15    63  0.17381    688  1.060688    62.84\n",
       "24 2020-02-15    64  0.17360    841  1.083792    59.10\n",
       "25 2020-04-15    60  0.17283    600  1.082164    59.37\n",
       "26 2020-06-15    62  0.17061    912  1.114573    65.35"
      ]
     },
     "execution_count": 4,
     "metadata": {},
     "output_type": "execute_result"
    }
   ],
   "source": [
    "df[['yyyymm','days','tier1','usage', 'cpi', 'AvgTemp']]"
   ]
  },
  {
   "cell_type": "markdown",
   "metadata": {
    "slideshow": {
     "slide_type": "slide"
    }
   },
   "source": [
    "# Data"
   ]
  },
  {
   "cell_type": "code",
   "execution_count": 129,
   "metadata": {
    "tags": [
     "to_remove"
    ]
   },
   "outputs": [
    {
     "data": {
      "image/png": "[encoded data removed]",
      "text/plain": [
       "<Figure size 640x480 with 1 Axes>"
      ]
     },
     "metadata": {},
     "output_type": "display_data"
    }
   ],
   "source": [
    "_ = (\n",
    "  plotnine.ggplot(df) + plotnine.aes(x='yyyymm') +\n",
    "    plotnine.geom_line(plotnine.aes(y='tier1'), group=1, color='dodgerblue') +\n",
    "    plotnine.geom_point(plotnine.aes(y='tier1'), group=1, color='dodgerblue') +\n",
    "\n",
    "    plotnine.geom_line(plotnine.aes(y='tier2'), group=1, color='green') +\n",
    "    plotnine.geom_point(plotnine.aes(y='tier2'), group=1, color='green') +\n",
    "    plotnine.scale_x_date(date_breaks=\"1 years\", name=\"\", labels=mizani.formatters.date_format('%Y')) + \n",
    "    plotnine.scale_y_continuous(name=\"Price ($ / kwH)\", limits=[.10,.25]) + \n",
    "    plotnine.ggtitle(\"Tier 1 & 2 prices billed 2016 - 2020\")\n",
    "\n",
    ").draw()\n"
   ]
  },
  {
   "cell_type": "markdown",
   "metadata": {
    "slideshow": {
     "slide_type": "slide"
    }
   },
   "source": [
    "# Data"
   ]
  },
  {
   "cell_type": "code",
   "execution_count": 130,
   "metadata": {
    "tags": [
     "to_remove"
    ]
   },
   "outputs": [
    {
     "data": {
      "image/png": "[encoded data removed]",
      "text/plain": [
       "<Figure size 640x480 with 1 Axes>"
      ]
     },
     "metadata": {},
     "output_type": "display_data"
    }
   ],
   "source": [
    "_=(\n",
    "  plotnine.ggplot(df) + plotnine.aes(x='yyyymm') +\n",
    "    plotnine.geom_line(plotnine.aes(y='usage'), group=1, color='dodgerblue') +\n",
    "    plotnine.geom_point(plotnine.aes(y='usage'), group=1, color='dodgerblue') +\n",
    "    \n",
    "    plotnine.scale_x_date(date_breaks=\"1 years\", name=\"\", labels=mizani.formatters.date_format('%Y')) + \n",
    "    plotnine.scale_y_continuous(name=\"Usage (kwH)\") + \n",
    "    plotnine.ggtitle(\"Usage 2016 - 2020\")\n",
    "\n",
    ").draw()"
   ]
  },
  {
   "cell_type": "markdown",
   "metadata": {
    "slideshow": {
     "slide_type": "slide"
    }
   },
   "source": [
    "# Modeling Tier 1 Price"
   ]
  },
  {
   "cell_type": "markdown",
   "metadata": {
    "slideshow": {
     "slide_type": "slide"
    }
   },
   "source": [
    "$$ \\log P = \\alpha + t^* \\beta_1 + \\mbox{heat } \\beta_2 + \\mbox{cool} \\beta_3 + \\log(\\mbox{CPI}) \\beta_4 $$ "
   ]
  },
  {
   "cell_type": "code",
   "execution_count": 99,
   "metadata": {
    "tags": [
     "to_remove"
    ]
   },
   "outputs": [],
   "source": [
    "X = df[['t','heat', 'cool', 'cpi']].assign(\n",
    "    cpi=lambda x: numpy.log(x.cpi), \n",
    "    base=lambda x: 1,\n",
    "    t = lambda x: statsmodels.api.OLS(x['t'], x[['cpi', 'base']]).fit().resid\n",
    ").assign(\n",
    "    t = lambda x: x['t'] - x['t'].min()\n",
    ")"
   ]
  },
  {
   "cell_type": "code",
   "execution_count": 100,
   "metadata": {
    "tags": [
     "to_remove"
    ]
   },
   "outputs": [],
   "source": [
    "m = statsmodels.api.OLS(numpy.log(df.tier1), X)\n",
    "results = m.fit()"
   ]
  },
  {
   "cell_type": "code",
   "execution_count": 101,
   "metadata": {
    "tags": [
     "to_remove"
    ]
   },
   "outputs": [
    {
     "data": {
      "text/html": [
       "<table class=\"simpletable\">\n",
       "<caption>OLS Regression Results</caption>\n",
       "<tr>\n",
       "  <th>Dep. Variable:</th>          <td>tier1</td>      <th>  R-squared:         </th> <td>   0.957</td>\n",
       "</tr>\n",
       "<tr>\n",
       "  <th>Model:</th>                   <td>OLS</td>       <th>  Adj. R-squared:    </th> <td>   0.950</td>\n",
       "</tr>\n",
       "<tr>\n",
       "  <th>Method:</th>             <td>Least Squares</td>  <th>  F-statistic:       </th> <td>   123.4</td>\n",
       "</tr>\n",
       "<tr>\n",
       "  <th>Date:</th>             <td>Mon, 24 Aug 2020</td> <th>  Prob (F-statistic):</th> <td>9.81e-15</td>\n",
       "</tr>\n",
       "<tr>\n",
       "  <th>Time:</th>                 <td>17:54:26</td>     <th>  Log-Likelihood:    </th> <td>  72.840</td>\n",
       "</tr>\n",
       "<tr>\n",
       "  <th>No. Observations:</th>      <td>    27</td>      <th>  AIC:               </th> <td>  -135.7</td>\n",
       "</tr>\n",
       "<tr>\n",
       "  <th>Df Residuals:</th>          <td>    22</td>      <th>  BIC:               </th> <td>  -129.2</td>\n",
       "</tr>\n",
       "<tr>\n",
       "  <th>Df Model:</th>              <td>     4</td>      <th>                     </th>     <td> </td>   \n",
       "</tr>\n",
       "<tr>\n",
       "  <th>Covariance Type:</th>      <td>nonrobust</td>    <th>                     </th>     <td> </td>   \n",
       "</tr>\n",
       "</table>\n",
       "<table class=\"simpletable\">\n",
       "<tr>\n",
       "    <td></td>      <th>coef</th>     <th>std err</th>      <th>t</th>      <th>P>|t|</th>  <th>[0.025</th>    <th>0.975]</th>  \n",
       "</tr>\n",
       "<tr>\n",
       "  <th>t</th>    <td>    0.0112</td> <td>    0.001</td> <td>   15.214</td> <td> 0.000</td> <td>    0.010</td> <td>    0.013</td>\n",
       "</tr>\n",
       "<tr>\n",
       "  <th>heat</th> <td>    0.0034</td> <td>    0.002</td> <td>    1.793</td> <td> 0.087</td> <td>   -0.001</td> <td>    0.007</td>\n",
       "</tr>\n",
       "<tr>\n",
       "  <th>cool</th> <td>    0.0018</td> <td>    0.002</td> <td>    1.074</td> <td> 0.295</td> <td>   -0.002</td> <td>    0.005</td>\n",
       "</tr>\n",
       "<tr>\n",
       "  <th>cpi</th>  <td>    1.6116</td> <td>    0.163</td> <td>    9.865</td> <td> 0.000</td> <td>    1.273</td> <td>    1.950</td>\n",
       "</tr>\n",
       "<tr>\n",
       "  <th>base</th> <td>   -2.0877</td> <td>    0.014</td> <td> -151.252</td> <td> 0.000</td> <td>   -2.116</td> <td>   -2.059</td>\n",
       "</tr>\n",
       "</table>\n",
       "<table class=\"simpletable\">\n",
       "<tr>\n",
       "  <th>Omnibus:</th>       <td> 2.320</td> <th>  Durbin-Watson:     </th> <td>   1.004</td>\n",
       "</tr>\n",
       "<tr>\n",
       "  <th>Prob(Omnibus):</th> <td> 0.313</td> <th>  Jarque-Bera (JB):  </th> <td>   1.976</td>\n",
       "</tr>\n",
       "<tr>\n",
       "  <th>Skew:</th>          <td> 0.634</td> <th>  Prob(JB):          </th> <td>   0.372</td>\n",
       "</tr>\n",
       "<tr>\n",
       "  <th>Kurtosis:</th>      <td> 2.613</td> <th>  Cond. No.          </th> <td>    625.</td>\n",
       "</tr>\n",
       "</table><br/><br/>Warnings:<br/>[1] Standard Errors assume that the covariance matrix of the errors is correctly specified."
      ],
      "text/plain": [
       "<class 'statsmodels.iolib.summary.Summary'>\n",
       "\"\"\"\n",
       "                            OLS Regression Results                            \n",
       "==============================================================================\n",
       "Dep. Variable:                  tier1   R-squared:                       0.957\n",
       "Model:                            OLS   Adj. R-squared:                  0.950\n",
       "Method:                 Least Squares   F-statistic:                     123.4\n",
       "Date:                Mon, 24 Aug 2020   Prob (F-statistic):           9.81e-15\n",
       "Time:                        17:54:26   Log-Likelihood:                 72.840\n",
       "No. Observations:                  27   AIC:                            -135.7\n",
       "Df Residuals:                      22   BIC:                            -129.2\n",
       "Df Model:                           4                                         \n",
       "Covariance Type:            nonrobust                                         \n",
       "==============================================================================\n",
       "                 coef    std err          t      P>|t|      [0.025      0.975]\n",
       "------------------------------------------------------------------------------\n",
       "t              0.0112      0.001     15.214      0.000       0.010       0.013\n",
       "heat           0.0034      0.002      1.793      0.087      -0.001       0.007\n",
       "cool           0.0018      0.002      1.074      0.295      -0.002       0.005\n",
       "cpi            1.6116      0.163      9.865      0.000       1.273       1.950\n",
       "base          -2.0877      0.014   -151.252      0.000      -2.116      -2.059\n",
       "==============================================================================\n",
       "Omnibus:                        2.320   Durbin-Watson:                   1.004\n",
       "Prob(Omnibus):                  0.313   Jarque-Bera (JB):                1.976\n",
       "Skew:                           0.634   Prob(JB):                        0.372\n",
       "Kurtosis:                       2.613   Cond. No.                         625.\n",
       "==============================================================================\n",
       "\n",
       "Warnings:\n",
       "[1] Standard Errors assume that the covariance matrix of the errors is correctly specified.\n",
       "\"\"\""
      ]
     },
     "execution_count": 101,
     "metadata": {},
     "output_type": "execute_result"
    }
   ],
   "source": [
    "results.summary()"
   ]
  },
  {
   "cell_type": "markdown",
   "metadata": {
    "slideshow": {
     "slide_type": "slide"
    }
   },
   "source": [
    "# Plotting"
   ]
  },
  {
   "cell_type": "code",
   "execution_count": 102,
   "metadata": {},
   "outputs": [],
   "source": [
    "decomp = X.apply(lambda x: x * results.params[x.name])"
   ]
  },
  {
   "cell_type": "code",
   "execution_count": 103,
   "metadata": {
    "slideshow": {
     "slide_type": "skip"
    },
    "tags": [
     "to_remove"
    ]
   },
   "outputs": [],
   "source": [
    "decomp['yyyymm'] = df['yyyymm']\n",
    "decomp['cpi_base'] = X['cpi']\n",
    "decomp['cpi'] -= X['cpi']\n"
   ]
  },
  {
   "cell_type": "code",
   "execution_count": 131,
   "metadata": {
    "tags": [
     "to_remove"
    ]
   },
   "outputs": [
    {
     "data": {
      "image/png": "[encoded data removed]",
      "text/plain": [
       "<Figure size 640x480 with 5 Axes>"
      ]
     },
     "metadata": {},
     "output_type": "display_data"
    }
   ],
   "source": [
    "_=(\n",
    "  plotnine.ggplot( decomp.drop(columns='base').melt(\"yyyymm\") ) + plotnine.aes(x='yyyymm', y='value', group='variable', color='variable') +\n",
    "    plotnine.geom_line() + \n",
    "    plotnine.geom_smooth(alpha=.6) +     \n",
    "    plotnine.facet_wrap(\"~variable\") +\n",
    "    \n",
    "    plotnine.scale_x_date(date_breaks=\"2 years\", name=\"\", labels=mizani.formatters.date_format('%Y')) + \n",
    "    plotnine.scale_y_continuous(name=\"log Price (kwH)\") + \n",
    "    plotnine.guides(color=None) + \n",
    "    plotnine.ggtitle(\"Decomp (log Price), 2016 - 2020\")\n",
    "    \n",
    ").draw()"
   ]
  },
  {
   "cell_type": "markdown",
   "metadata": {},
   "source": [
    "# Plotting (Stacked)"
   ]
  },
  {
   "cell_type": "code",
   "execution_count": 133,
   "metadata": {
    "tags": [
     "to_remove"
    ]
   },
   "outputs": [
    {
     "data": {
      "image/png": "[encoded data removed]",
      "text/plain": [
       "<Figure size 640x480 with 1 Axes>"
      ]
     },
     "metadata": {},
     "output_type": "display_data"
    }
   ],
   "source": [
    "_=(\n",
    "  plotnine.ggplot( \n",
    "      decomp.drop(columns=['base']).melt(\"yyyymm\").assign(\n",
    "          variable = lambda x: pandas.Categorical(x['variable'], ['cool','heat', 't', 'cpi', 'cpi_base'])\n",
    "      ) \n",
    "  ) + \n",
    "    plotnine.aes(x='yyyymm', y='value', group='variable', fill='variable') +\n",
    "    plotnine.geom_col() + \n",
    "    \n",
    "    plotnine.scale_x_date(date_breaks=\"2 years\", name=\"\", labels=mizani.formatters.date_format('%Y')) + \n",
    "    plotnine.scale_y_continuous(name=\"log Price (kwH)\")  +\n",
    "    #plotnine.guides(color=None) + \n",
    "    plotnine.ggtitle(\"Decomp (log Price), 2016 - 2020\")  \n",
    ").draw()"
   ]
  },
  {
   "cell_type": "markdown",
   "metadata": {
    "slideshow": {
     "slide_type": "slide"
    }
   },
   "source": [
    "# Back transform to Dollars, get rid of log"
   ]
  },
  {
   "cell_type": "markdown",
   "metadata": {},
   "source": [
    "* We want to not be on log scale\n",
    "  * Back transforming is a nonlinear function, $e^\\hat{y}$\n",
    "    * Chain rule: $ \\frac{\\partial}{\\partial x_i} e^\\hat{y} = e^\\hat{y} \\beta_i$\n",
    "    "
   ]
  },
  {
   "cell_type": "code",
   "execution_count": 234,
   "metadata": {
    "slideshow": {
     "slide_type": "fragment"
    }
   },
   "outputs": [],
   "source": [
    "decomp = X.apply(lambda x: x * numpy.exp(results.fittedvalues) * results.params[x.name])"
   ]
  },
  {
   "cell_type": "markdown",
   "metadata": {
    "slideshow": {
     "slide_type": "fragment"
    }
   },
   "source": [
    "* **¡Extra Caution with base bucket!**\n",
    "  * Log Normal - add back $\\sigma^2/2$\n",
    "    "
   ]
  },
  {
   "cell_type": "code",
   "execution_count": 235,
   "metadata": {
    "slideshow": {
     "slide_type": "skip"
    }
   },
   "outputs": [],
   "source": [
    "decomp['base'] = numpy.exp(\n",
    "    results.predict(\n",
    "      X.head(1).assign(cool=0, heat=0, t=0)\n",
    "    )[0] + \n",
    "    numpy.mean(results.resid**2)/2\n",
    ")"
   ]
  },
  {
   "cell_type": "code",
   "execution_count": 236,
   "metadata": {},
   "outputs": [
    {
     "data": {
      "text/html": [
       "<div>\n",
       "<style scoped>\n",
       "    .dataframe tbody tr th:only-of-type {\n",
       "        vertical-align: middle;\n",
       "    }\n",
       "\n",
       "    .dataframe tbody tr th {\n",
       "        vertical-align: top;\n",
       "    }\n",
       "\n",
       "    .dataframe thead th {\n",
       "        text-align: right;\n",
       "    }\n",
       "</style>\n",
       "<table border=\"1\" class=\"dataframe\">\n",
       "  <thead>\n",
       "    <tr style=\"text-align: right;\">\n",
       "      <th></th>\n",
       "      <th>t</th>\n",
       "      <th>heat</th>\n",
       "      <th>cool</th>\n",
       "      <th>cpi</th>\n",
       "      <th>base</th>\n",
       "    </tr>\n",
       "  </thead>\n",
       "  <tbody>\n",
       "    <tr>\n",
       "      <th>0</th>\n",
       "      <td>0.015383</td>\n",
       "      <td>0.000000</td>\n",
       "      <td>0.002034</td>\n",
       "      <td>0.000000</td>\n",
       "      <td>0.123987</td>\n",
       "    </tr>\n",
       "    <tr>\n",
       "      <th>1</th>\n",
       "      <td>0.017194</td>\n",
       "      <td>0.000000</td>\n",
       "      <td>0.001245</td>\n",
       "      <td>-0.000104</td>\n",
       "      <td>0.123987</td>\n",
       "    </tr>\n",
       "    <tr>\n",
       "      <th>2</th>\n",
       "      <td>0.005322</td>\n",
       "      <td>0.000000</td>\n",
       "      <td>0.000824</td>\n",
       "      <td>0.009765</td>\n",
       "      <td>0.123987</td>\n",
       "    </tr>\n",
       "    <tr>\n",
       "      <th>3</th>\n",
       "      <td>0.000000</td>\n",
       "      <td>0.002647</td>\n",
       "      <td>0.000000</td>\n",
       "      <td>0.015097</td>\n",
       "      <td>0.123987</td>\n",
       "    </tr>\n",
       "    <tr>\n",
       "      <th>4</th>\n",
       "      <td>0.001123</td>\n",
       "      <td>0.002477</td>\n",
       "      <td>0.000000</td>\n",
       "      <td>0.015585</td>\n",
       "      <td>0.123987</td>\n",
       "    </tr>\n",
       "    <tr>\n",
       "      <th>5</th>\n",
       "      <td>0.016129</td>\n",
       "      <td>0.000000</td>\n",
       "      <td>0.000335</td>\n",
       "      <td>0.005877</td>\n",
       "      <td>0.123987</td>\n",
       "    </tr>\n",
       "    <tr>\n",
       "      <th>6</th>\n",
       "      <td>0.020863</td>\n",
       "      <td>0.000000</td>\n",
       "      <td>0.002506</td>\n",
       "      <td>0.004132</td>\n",
       "      <td>0.123987</td>\n",
       "    </tr>\n",
       "    <tr>\n",
       "      <th>7</th>\n",
       "      <td>0.017260</td>\n",
       "      <td>0.000000</td>\n",
       "      <td>0.001369</td>\n",
       "      <td>0.007978</td>\n",
       "      <td>0.123987</td>\n",
       "    </tr>\n",
       "    <tr>\n",
       "      <th>8</th>\n",
       "      <td>0.006566</td>\n",
       "      <td>0.000000</td>\n",
       "      <td>0.000712</td>\n",
       "      <td>0.016933</td>\n",
       "      <td>0.123987</td>\n",
       "    </tr>\n",
       "    <tr>\n",
       "      <th>9</th>\n",
       "      <td>0.009145</td>\n",
       "      <td>0.002811</td>\n",
       "      <td>0.000000</td>\n",
       "      <td>0.016845</td>\n",
       "      <td>0.123987</td>\n",
       "    </tr>\n",
       "    <tr>\n",
       "      <th>10</th>\n",
       "      <td>0.009834</td>\n",
       "      <td>0.002774</td>\n",
       "      <td>0.000000</td>\n",
       "      <td>0.017816</td>\n",
       "      <td>0.123987</td>\n",
       "    </tr>\n",
       "    <tr>\n",
       "      <th>11</th>\n",
       "      <td>0.024579</td>\n",
       "      <td>0.000000</td>\n",
       "      <td>0.000119</td>\n",
       "      <td>0.008434</td>\n",
       "      <td>0.123987</td>\n",
       "    </tr>\n",
       "    <tr>\n",
       "      <th>12</th>\n",
       "      <td>0.021594</td>\n",
       "      <td>0.000000</td>\n",
       "      <td>0.001129</td>\n",
       "      <td>0.012238</td>\n",
       "      <td>0.123987</td>\n",
       "    </tr>\n",
       "    <tr>\n",
       "      <th>13</th>\n",
       "      <td>0.021887</td>\n",
       "      <td>0.000000</td>\n",
       "      <td>0.001945</td>\n",
       "      <td>0.013728</td>\n",
       "      <td>0.123987</td>\n",
       "    </tr>\n",
       "    <tr>\n",
       "      <th>14</th>\n",
       "      <td>0.015147</td>\n",
       "      <td>0.000000</td>\n",
       "      <td>0.000821</td>\n",
       "      <td>0.019813</td>\n",
       "      <td>0.123987</td>\n",
       "    </tr>\n",
       "    <tr>\n",
       "      <th>15</th>\n",
       "      <td>0.010571</td>\n",
       "      <td>0.004469</td>\n",
       "      <td>0.000000</td>\n",
       "      <td>0.025321</td>\n",
       "      <td>0.123987</td>\n",
       "    </tr>\n",
       "    <tr>\n",
       "      <th>16</th>\n",
       "      <td>0.022870</td>\n",
       "      <td>0.002186</td>\n",
       "      <td>0.000000</td>\n",
       "      <td>0.017894</td>\n",
       "      <td>0.123987</td>\n",
       "    </tr>\n",
       "    <tr>\n",
       "      <th>17</th>\n",
       "      <td>0.030703</td>\n",
       "      <td>0.000000</td>\n",
       "      <td>0.000167</td>\n",
       "      <td>0.013665</td>\n",
       "      <td>0.123987</td>\n",
       "    </tr>\n",
       "    <tr>\n",
       "      <th>18</th>\n",
       "      <td>0.035922</td>\n",
       "      <td>0.000000</td>\n",
       "      <td>0.002326</td>\n",
       "      <td>0.012196</td>\n",
       "      <td>0.123987</td>\n",
       "    </tr>\n",
       "    <tr>\n",
       "      <th>19</th>\n",
       "      <td>0.036352</td>\n",
       "      <td>0.000000</td>\n",
       "      <td>0.001721</td>\n",
       "      <td>0.013491</td>\n",
       "      <td>0.123987</td>\n",
       "    </tr>\n",
       "    <tr>\n",
       "      <th>20</th>\n",
       "      <td>0.024581</td>\n",
       "      <td>0.000000</td>\n",
       "      <td>0.001129</td>\n",
       "      <td>0.023219</td>\n",
       "      <td>0.123987</td>\n",
       "    </tr>\n",
       "    <tr>\n",
       "      <th>21</th>\n",
       "      <td>0.025790</td>\n",
       "      <td>0.001847</td>\n",
       "      <td>0.000000</td>\n",
       "      <td>0.024312</td>\n",
       "      <td>0.123987</td>\n",
       "    </tr>\n",
       "    <tr>\n",
       "      <th>22</th>\n",
       "      <td>0.027879</td>\n",
       "      <td>0.004295</td>\n",
       "      <td>0.000000</td>\n",
       "      <td>0.025279</td>\n",
       "      <td>0.123987</td>\n",
       "    </tr>\n",
       "    <tr>\n",
       "      <th>23</th>\n",
       "      <td>0.041962</td>\n",
       "      <td>0.000000</td>\n",
       "      <td>0.000676</td>\n",
       "      <td>0.016535</td>\n",
       "      <td>0.123987</td>\n",
       "    </tr>\n",
       "    <tr>\n",
       "      <th>24</th>\n",
       "      <td>0.036072</td>\n",
       "      <td>0.000000</td>\n",
       "      <td>0.001857</td>\n",
       "      <td>0.022725</td>\n",
       "      <td>0.123987</td>\n",
       "    </tr>\n",
       "    <tr>\n",
       "      <th>25</th>\n",
       "      <td>0.039053</td>\n",
       "      <td>0.000000</td>\n",
       "      <td>0.001793</td>\n",
       "      <td>0.022560</td>\n",
       "      <td>0.123987</td>\n",
       "    </tr>\n",
       "    <tr>\n",
       "      <th>26</th>\n",
       "      <td>0.029388</td>\n",
       "      <td>0.000209</td>\n",
       "      <td>0.000000</td>\n",
       "      <td>0.030571</td>\n",
       "      <td>0.123987</td>\n",
       "    </tr>\n",
       "  </tbody>\n",
       "</table>\n",
       "</div>"
      ],
      "text/plain": [
       "           t      heat      cool       cpi      base\n",
       "0   0.015383  0.000000  0.002034  0.000000  0.123987\n",
       "1   0.017194  0.000000  0.001245 -0.000104  0.123987\n",
       "2   0.005322  0.000000  0.000824  0.009765  0.123987\n",
       "3   0.000000  0.002647  0.000000  0.015097  0.123987\n",
       "4   0.001123  0.002477  0.000000  0.015585  0.123987\n",
       "5   0.016129  0.000000  0.000335  0.005877  0.123987\n",
       "6   0.020863  0.000000  0.002506  0.004132  0.123987\n",
       "7   0.017260  0.000000  0.001369  0.007978  0.123987\n",
       "8   0.006566  0.000000  0.000712  0.016933  0.123987\n",
       "9   0.009145  0.002811  0.000000  0.016845  0.123987\n",
       "10  0.009834  0.002774  0.000000  0.017816  0.123987\n",
       "11  0.024579  0.000000  0.000119  0.008434  0.123987\n",
       "12  0.021594  0.000000  0.001129  0.012238  0.123987\n",
       "13  0.021887  0.000000  0.001945  0.013728  0.123987\n",
       "14  0.015147  0.000000  0.000821  0.019813  0.123987\n",
       "15  0.010571  0.004469  0.000000  0.025321  0.123987\n",
       "16  0.022870  0.002186  0.000000  0.017894  0.123987\n",
       "17  0.030703  0.000000  0.000167  0.013665  0.123987\n",
       "18  0.035922  0.000000  0.002326  0.012196  0.123987\n",
       "19  0.036352  0.000000  0.001721  0.013491  0.123987\n",
       "20  0.024581  0.000000  0.001129  0.023219  0.123987\n",
       "21  0.025790  0.001847  0.000000  0.024312  0.123987\n",
       "22  0.027879  0.004295  0.000000  0.025279  0.123987\n",
       "23  0.041962  0.000000  0.000676  0.016535  0.123987\n",
       "24  0.036072  0.000000  0.001857  0.022725  0.123987\n",
       "25  0.039053  0.000000  0.001793  0.022560  0.123987\n",
       "26  0.029388  0.000209  0.000000  0.030571  0.123987"
      ]
     },
     "execution_count": 236,
     "metadata": {},
     "output_type": "execute_result"
    }
   ],
   "source": [
    "decomp"
   ]
  },
  {
   "cell_type": "markdown",
   "metadata": {
    "slideshow": {
     "slide_type": "slide"
    }
   },
   "source": [
    "# Plotting (dollar scale)"
   ]
  },
  {
   "cell_type": "code",
   "execution_count": 237,
   "metadata": {
    "slideshow": {
     "slide_type": "skip"
    },
    "tags": [
     "to_remove"
    ]
   },
   "outputs": [],
   "source": [
    "decomp['yyyymm'] = df['yyyymm']\n",
    "decomp['cpi_base'] = numpy.exp(results.fittedvalues) * X['cpi']\n",
    "decomp['cpi'] -= decomp['cpi_base']\n"
   ]
  },
  {
   "cell_type": "code",
   "execution_count": 238,
   "metadata": {
    "tags": [
     "to_remove"
    ]
   },
   "outputs": [
    {
     "data": {
      "image/png": "[encoded data removed]",
      "text/plain": [
       "<Figure size 640x480 with 5 Axes>"
      ]
     },
     "metadata": {},
     "output_type": "display_data"
    }
   ],
   "source": [
    "_=(\n",
    "  plotnine.ggplot( decomp.drop(columns='base').melt(\"yyyymm\") ) + plotnine.aes(x='yyyymm', y='value', group='variable', color='variable') +\n",
    "    plotnine.geom_line() + \n",
    "    plotnine.geom_smooth(alpha=.6) +     \n",
    "    plotnine.facet_wrap(\"~variable\") +\n",
    "    \n",
    "    plotnine.scale_x_date(date_breaks=\"2 years\", name=\"\", labels=mizani.formatters.date_format('%Y')) + \n",
    "    plotnine.scale_y_continuous(name=\"log Price (kwH)\") + \n",
    "    plotnine.guides(color=None) + \n",
    "    plotnine.ggtitle(\"Price ($ / kwH), 2016 - 2020\")\n",
    "    \n",
    ").draw()"
   ]
  },
  {
   "cell_type": "markdown",
   "metadata": {},
   "source": [
    "# Plotting (Stacked)"
   ]
  },
  {
   "cell_type": "code",
   "execution_count": 239,
   "metadata": {
    "tags": [
     "to_remove"
    ]
   },
   "outputs": [
    {
     "data": {
      "image/png": "[encoded data removed]",
      "text/plain": [
       "<Figure size 640x480 with 1 Axes>"
      ]
     },
     "metadata": {},
     "output_type": "display_data"
    }
   ],
   "source": [
    "_=(\n",
    "  plotnine.ggplot( \n",
    "      decomp.melt(\"yyyymm\").assign(\n",
    "          variable = lambda x: pandas.Categorical(x['variable'], ['cool','heat', 't', 'cpi', 'cpi_base', 'base'])\n",
    "      ) \n",
    "  ) + \n",
    "    plotnine.aes(x='yyyymm', y='value', group='variable', fill='variable') +\n",
    "    plotnine.geom_col() + \n",
    "    \n",
    "    plotnine.scale_x_date(date_breaks=\"2 years\", name=\"\", labels=mizani.formatters.date_format('%Y')) + \n",
    "    plotnine.scale_y_continuous(name=\"Price ($ / kwH)\")  +\n",
    "    #plotnine.guides(color=None) + \n",
    "    plotnine.ggtitle(\"Decomp Price, 2016 - 2020\")  \n",
    ").draw()"
   ]
  },
  {
   "cell_type": "markdown",
   "metadata": {
    "slideshow": {
     "slide_type": "slide"
    }
   },
   "source": [
    "# Linear Aggregation"
   ]
  },
  {
   "cell_type": "markdown",
   "metadata": {},
   "source": [
    "* Multiply decomposed price components by actual usage\n",
    "* Aggregate to yearly level"
   ]
  },
  {
   "cell_type": "code",
   "execution_count": 279,
   "metadata": {},
   "outputs": [],
   "source": [
    "yearly_decomp = (\n",
    "    decomp.\n",
    "      drop(columns=\"yyyymm\").\n",
    "      multiply(df['usage'], axis='index').\n",
    "      groupby(df['yyyy']).\n",
    "      mean()\n",
    ")"
   ]
  },
  {
   "cell_type": "code",
   "execution_count": 280,
   "metadata": {
    "slideshow": {
     "slide_type": "skip"
    }
   },
   "outputs": [],
   "source": [
    "yearly_decomp = yearly_decomp.reset_index().assign(\n",
    "  yyyy = lambda x: pandas.to_datetime(x[['yyyy']].rename(columns={\"yyyy\": \"YEAR\"}).assign(MONTH=1, DAY=1))\n",
    ")"
   ]
  },
  {
   "cell_type": "code",
   "execution_count": 281,
   "metadata": {
    "tags": [
     "to_remove"
    ]
   },
   "outputs": [
    {
     "data": {
      "image/png": "[encoded data removed]",
      "text/plain": [
       "<Figure size 640x480 with 1 Axes>"
      ]
     },
     "metadata": {},
     "output_type": "display_data"
    }
   ],
   "source": [
    "_=(\n",
    "  plotnine.ggplot( \n",
    "      yearly_decomp.melt(\"yyyy\").assign(\n",
    "          variable = lambda x: pandas.Categorical(x['variable'], ['cool','heat', 't', 'cpi', 'cpi_base', 'base'])\n",
    "      ) \n",
    "  ) + \n",
    "    plotnine.aes(x='yyyy', y='value', group='variable', fill='variable') +\n",
    "    plotnine.geom_col() + \n",
    "    \n",
    "    plotnine.scale_x_date(date_breaks=\"1 years\", name=\"\", labels=mizani.formatters.date_format('%Y')) + \n",
    "    plotnine.scale_y_continuous(name=\"Energy Spend ($)\")  +\n",
    "    #plotnine.guides(color=None) + \n",
    "    plotnine.ggtitle(\"Decomp Avg Monthly Bill, 2016 - 2020\")  \n",
    ").draw()"
   ]
  },
  {
   "cell_type": "markdown",
   "metadata": {
    "slideshow": {
     "slide_type": "slide"
    }
   },
   "source": [
    "# Executive Summary"
   ]
  },
  {
   "cell_type": "markdown",
   "metadata": {
    "slideshow": {
     "slide_type": "fragment"
    }
   },
   "source": []
  },
  {
   "cell_type": "code",
   "execution_count": null,
   "metadata": {
    "slideshow": {
     "slide_type": "slide"
    }
   },
   "outputs": [],
   "source": [
    "# Questions"
   ]
  },
  {
   "cell_type": "markdown",
   "metadata": {
    "slideshow": {
     "slide_type": "slide"
    }
   },
   "source": [
    "# Q: Who are you?"
   ]
  },
  {
   "cell_type": "markdown",
   "metadata": {},
   "source": [
    "* Former SWE / RSE in CPG => Data Science in Lending, AdTech (+mobile)\n",
    "* Grad school at Berkeley iSchool, UCLA Stats\n",
    "* Part-time stats consultant since 2007, went independent in 2019\n",
    "* Contributor to R, Jupyter, GNU Screen, ...\n",
    "* Mentor on SharpestMinds, Springboard, MentorCruise, ...\n",
    "* Add me on [LinkedIn](https://linkedin.com/in/nfultz) and [GitHub](https://github.com/nfultz)"
   ]
  },
  {
   "cell_type": "markdown",
   "metadata": {
    "slideshow": {
     "slide_type": "slide"
    }
   },
   "source": [
    "# Q: Where did duetos come frome? "
   ]
  },
  {
   "cell_type": "markdown",
   "metadata": {},
   "source": [
    "This is a great question without a good answer.\n",
    "\n",
    "Additive decompositions have been in Mathematics for a long time, but in the modern sense, popped up in Economics in the postwar era as people tried to figure out how inflation indexes were behaving, and then spread to psychology via quantitative marketing.\n",
    "\n",
    "Duetos are really unclear who invented them, when or where; I learned on the job at a company with ex-Deloitte founders."
   ]
  },
  {
   "cell_type": "markdown",
   "metadata": {
    "slideshow": {
     "slide_type": "slide"
    }
   },
   "source": [
    "# Q: What is the relationship of Decomps with Explainability / Fairness? "
   ]
  },
  {
   "cell_type": "markdown",
   "metadata": {},
   "source": [
    "In  *Explanability* / *Fairness*, decompose \"contribution\" for a specific point for each variable, by inspecting the partial derivative at the point.\n",
    "\n",
    "Decomps and duetos take the derivative at the reference group / origin / time 0."
   ]
  },
  {
   "cell_type": "markdown",
   "metadata": {
    "slideshow": {
     "slide_type": "slide"
    }
   },
   "source": [
    "# Q: Any practice problems / extensions?"
   ]
  },
  {
   "cell_type": "markdown",
   "metadata": {},
   "source": [
    "*HW1*: Extend the keras model to incorporate Tier 2 and Tier 3 pricing. (Hint: Use ReLU layers)\n",
    "\n",
    "*HW2*: Incorporate time series components into trend, seasonality as in [Hyndman](https://otexts.com/fpp2)"
   ]
  },
  {
   "cell_type": "markdown",
   "metadata": {
    "slideshow": {
     "slide_type": "slide"
    }
   },
   "source": [
    "# Q: How did you make these slides?"
   ]
  },
  {
   "cell_type": "markdown",
   "metadata": {},
   "source": [
    "* [Jupyter Notebook]\n",
    "* [plotnine]\n",
    "* [statsmodels]\n",
    "* [keras]\n",
    "* [reveal.js]"
   ]
  },
  {
   "cell_type": "markdown",
   "metadata": {
    "slideshow": {
     "slide_type": "slide"
    }
   },
   "source": [
    "# Q: Any practice problems / extensions?"
   ]
  },
  {
   "cell_type": "markdown",
   "metadata": {},
   "source": [
    "*HW1*: Extend the keras model to incorporate Tier 2 and Tier 3 pricing. (Hint: Use ReLU layers)\n",
    "\n",
    "*HW2*: Incorporate time series components into trend, seasonality as in [Hyndman](https://otexts.com/fpp2)"
   ]
  },
  {
   "cell_type": "code",
   "execution_count": null,
   "metadata": {},
   "outputs": [],
   "source": []
  }
 ],
 "metadata": {
  "kernelspec": {
   "display_name": "Python 3",
   "language": "python",
   "name": "python3"
  },
  "language_info": {
   "codemirror_mode": {
    "name": "ipython",
    "version": 3
   },
   "file_extension": ".py",
   "mimetype": "text/x-python",
   "name": "python",
   "nbconvert_exporter": "python",
   "pygments_lexer": "ipython3",
   "version": "3.8.2"
  }
 },
 "nbformat": 4,
 "nbformat_minor": 4
}
